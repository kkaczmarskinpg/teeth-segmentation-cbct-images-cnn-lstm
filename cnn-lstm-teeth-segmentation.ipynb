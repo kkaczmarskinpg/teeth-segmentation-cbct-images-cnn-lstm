{
 "cells": [
  {
   "cell_type": "code",
   "execution_count": null,
   "metadata": {},
   "outputs": [],
   "source": [
    "import utils\n",
    "import metrics\n",
    "import CNNLSTMModel\n",
    "\n",
    "import os\n",
    "import matplotlib.pyplot as plt\n",
    "import numpy as np"
   ]
  },
  {
   "cell_type": "markdown",
   "metadata": {},
   "source": [
    "Prepare data"
   ]
  },
  {
   "cell_type": "code",
   "execution_count": null,
   "metadata": {},
   "outputs": [],
   "source": [
    "photos_path = \"./photos/\"\n",
    "masks_path = \"./masks/\"\n",
    "\n",
    "photos_names = [file for file in os.listdir(photos_path) if file.endswith(\".zip\")]\n",
    "masks_names = [file for file in os.listdir(masks_path) if file.endswith(\".nii.gz\")]\n",
    "\n",
    "train_gen = utils.cbct_data_generator(photos_path, masks_path, photos_names, masks_names)\n",
    "\n",
    "epochs = 6\n",
    "model = CNNLSTMModel.create_cnn_lstm_model()\n",
    "model.summary()"
   ]
  },
  {
   "cell_type": "markdown",
   "metadata": {},
   "source": [
    "Train model"
   ]
  },
  {
   "cell_type": "code",
   "execution_count": null,
   "metadata": {},
   "outputs": [],
   "source": [
    "model.fit(\n",
    "    train_gen, \n",
    "    steps_per_epoch=len(photos_names),\n",
    "    epochs=epochs)"
   ]
  },
  {
   "cell_type": "markdown",
   "metadata": {},
   "source": [
    "Make prediction"
   ]
  },
  {
   "cell_type": "code",
   "execution_count": null,
   "metadata": {},
   "outputs": [],
   "source": [
    "test_scan = utils.load_dicom(photos_path+\"2.zip\")\n",
    "test_scan = test_scan[..., np.newaxis]\n",
    "test_scan = np.expand_dims(test_scan, axis=0)\n",
    "\n",
    "predictions = model.predict(test_scan)\n",
    "\n",
    "predicted_mask = predictions[0]\n",
    "binary_mask = (predicted_mask > 0.5).astype(np.uint8)"
   ]
  },
  {
   "cell_type": "markdown",
   "metadata": {},
   "source": [
    "Plot results"
   ]
  },
  {
   "cell_type": "code",
   "execution_count": null,
   "metadata": {},
   "outputs": [],
   "source": [
    "# Select a slice index to visualize\n",
    "slice_index = 25\n",
    "\n",
    "# Original slice\n",
    "plt.figure(figsize=(10, 5))\n",
    "plt.subplot(1, 4, 1)\n",
    "plt.title(\"Original Slice\")\n",
    "plt.imshow(test_scan[0, slice_index, :, :, 0], cmap=\"gray\")\n",
    "\n",
    "# Predicted mask\n",
    "plt.subplot(1, 4, 2)\n",
    "plt.title(\"Predicted Mask\")\n",
    "plt.imshow(predicted_mask[slice_index, :, :, 0], cmap=\"gray\")\n",
    "\n",
    "# Binary mask after thresholding\n",
    "plt.subplot(1, 4, 3)\n",
    "plt.title(\"Binary Mask\")\n",
    "plt.imshow(binary_mask[slice_index, :, :, 0], cmap=\"gray\")\n",
    "\n",
    "\n",
    "original_mask = utils.load_nifti(masks_path+\"2.nii.gz\")\n",
    "plt.subplot(1, 4, 4)\n",
    "plt.title(\"Original Mask\")\n",
    "plt.imshow(original_mask[slice_index,:,:], cmap=\"gray\")\n",
    "plt.show()"
   ]
  }
 ],
 "metadata": {
  "kernelspec": {
   "display_name": "Python 3",
   "language": "python",
   "name": "python3"
  },
  "language_info": {
   "codemirror_mode": {
    "name": "ipython",
    "version": 3
   },
   "file_extension": ".py",
   "mimetype": "text/x-python",
   "name": "python",
   "nbconvert_exporter": "python",
   "pygments_lexer": "ipython3",
   "version": "3.10.11"
  }
 },
 "nbformat": 4,
 "nbformat_minor": 2
}
